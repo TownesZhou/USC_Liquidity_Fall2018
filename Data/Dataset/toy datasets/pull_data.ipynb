{
 "cells": [
  {
   "cell_type": "code",
   "execution_count": 2,
   "metadata": {},
   "outputs": [
    {
     "name": "stderr",
     "output_type": "stream",
     "text": [
      "/Users/townes/anaconda/lib/python3.6/site-packages/psycopg2/__init__.py:144: UserWarning: The psycopg2 wheel package will be renamed from release 2.8; in order to keep installing from binary please use \"pip install psycopg2-binary\" instead. For details see: <http://initd.org/psycopg/docs/install.html#binary-install-from-pypi>.\n",
      "  \"\"\")\n"
     ]
    },
    {
     "name": "stdout",
     "output_type": "stream",
     "text": [
      "WRDS recommends setting up a .pgpass file.\n",
      "You can find more info here:\n",
      "https://www.postgresql.org/docs/9.5/static/libpq-pgpass.html.\n",
      "Loading library list...\n",
      "Done\n"
     ]
    }
   ],
   "source": [
    "import wrds\n",
    "\n",
    "db = wrds.Connection()"
   ]
  },
  {
   "cell_type": "code",
   "execution_count": 3,
   "metadata": {},
   "outputs": [],
   "source": [
    "data_merged = db.raw_sql(\"select permno, prc, shrout, date, hsiccd from crspq.dsf where prc>0 and shrout*prc < 50000 and hsiccd < 3600 and hsiccd >3500 and date = '2012-10-22'\")\n",
    "\n",
    "data_stock = db.raw_sql(\"select permno, vol, date from crspq.dsf where permno= 11394.0 and date > '2012-10-22'\")\n",
    "\n",
    "dataframe=data_stock[['date', 'vol']]\n",
    "\n",
    "series=dataframe.set_index('date')"
   ]
  },
  {
   "cell_type": "code",
   "execution_count": 4,
   "metadata": {},
   "outputs": [
    {
     "name": "stdout",
     "output_type": "stream",
     "text": [
      "                 vol\n",
      "date                \n",
      "2012-10-23   23390.0\n",
      "2012-10-24    7309.0\n",
      "2012-10-25   10850.0\n",
      "2012-10-26    8120.0\n",
      "2012-10-31   39273.0\n",
      "2012-11-01     625.0\n",
      "2012-11-02   25642.0\n",
      "2012-11-05   15280.0\n",
      "2012-11-06   17100.0\n",
      "2012-11-07   19500.0\n",
      "2012-11-08   22951.0\n",
      "2012-11-09    2000.0\n",
      "2012-11-12    3250.0\n",
      "2012-11-13   12449.0\n",
      "2012-11-14  110901.0\n",
      "2012-11-15   98973.0\n",
      "2012-11-16   93536.0\n",
      "2012-11-19   99693.0\n",
      "2012-11-20   33645.0\n",
      "2012-11-21    6242.0\n",
      "2012-11-23    3230.0\n",
      "2012-11-26   42789.0\n",
      "2012-11-27   20263.0\n",
      "2012-11-28   27400.0\n",
      "2012-11-29   20283.0\n",
      "2012-11-30   57375.0\n",
      "2012-12-03    8596.0\n",
      "2012-12-04   12269.0\n",
      "2012-12-05   16014.0\n",
      "2012-12-06   10997.0\n",
      "...              ...\n",
      "2018-02-15   46872.0\n",
      "2018-02-16   69440.0\n",
      "2018-02-20   28540.0\n",
      "2018-02-21   12130.0\n",
      "2018-02-22    5176.0\n",
      "2018-02-23    4185.0\n",
      "2018-02-26   35698.0\n",
      "2018-02-27    3036.0\n",
      "2018-02-28    3016.0\n",
      "2018-03-01    6765.0\n",
      "2018-03-02    4184.0\n",
      "2018-03-05   34269.0\n",
      "2018-03-06    7646.0\n",
      "2018-03-07    3617.0\n",
      "2018-03-08   48019.0\n",
      "2018-03-09   10542.0\n",
      "2018-03-12   37863.0\n",
      "2018-03-13   30165.0\n",
      "2018-03-14  384691.0\n",
      "2018-03-15   46269.0\n",
      "2018-03-16   19271.0\n",
      "2018-03-19   17223.0\n",
      "2018-03-20   10127.0\n",
      "2018-03-21   38522.0\n",
      "2018-03-22   57371.0\n",
      "2018-03-23   28028.0\n",
      "2018-03-26  295882.0\n",
      "2018-03-27  135034.0\n",
      "2018-03-28  171526.0\n",
      "2018-03-29   28700.0\n",
      "\n",
      "[1366 rows x 1 columns]\n"
     ]
    }
   ],
   "source": [
    "print(series)"
   ]
  },
  {
   "cell_type": "code",
   "execution_count": 5,
   "metadata": {},
   "outputs": [],
   "source": [
    "series.to_csv(\"toy_dataset_06142018\")"
   ]
  },
  {
   "cell_type": "code",
   "execution_count": null,
   "metadata": {},
   "outputs": [],
   "source": []
  }
 ],
 "metadata": {
  "kernelspec": {
   "display_name": "Python 3",
   "language": "python",
   "name": "python3"
  },
  "language_info": {
   "codemirror_mode": {
    "name": "ipython",
    "version": 3
   },
   "file_extension": ".py",
   "mimetype": "text/x-python",
   "name": "python",
   "nbconvert_exporter": "python",
   "pygments_lexer": "ipython3",
   "version": "3.6.5"
  }
 },
 "nbformat": 4,
 "nbformat_minor": 2
}
