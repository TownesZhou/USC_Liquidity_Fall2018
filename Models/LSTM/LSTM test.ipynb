{
 "cells": [
  {
   "cell_type": "code",
   "execution_count": 1,
   "metadata": {},
   "outputs": [
    {
     "name": "stderr",
     "output_type": "stream",
     "text": [
      "Using TensorFlow backend.\n"
     ]
    }
   ],
   "source": [
    "from pandas import read_csv\n",
    "from pandas import concat\n",
    "from pandas import Series\n",
    "import numpy as np\n",
    "from keras import Sequential\n",
    "from keras.layers import LSTM, Dense\n",
    "from keras.callbacks import ReduceLROnPlateau\n",
    "from sklearn.preprocessing import MinMaxScaler\n",
    "from matplotlib import pyplot\n",
    "from IPython.display import display\n",
    "from math import ceil\n",
    "\n",
    "%matplotlib inline"
   ]
  },
  {
   "cell_type": "code",
   "execution_count": 2,
   "metadata": {},
   "outputs": [],
   "source": [
    "series = read_csv(\"Microsoft Share Volume.csv\")"
   ]
  },
  {
   "cell_type": "code",
   "execution_count": 3,
   "metadata": {},
   "outputs": [
    {
     "name": "stdout",
     "output_type": "stream",
     "text": [
      "(2518, 2)\n",
      "       date       VOL\n",
      "0  20080102  63083943\n",
      "1  20080103  49601203\n",
      "2  20080104  72093831\n",
      "3  20080107  80226194\n",
      "4  20080108  79217360\n"
     ]
    },
    {
     "data": {
      "text/plain": [
       "<matplotlib.axes._subplots.AxesSubplot at 0x1a49254198>"
      ]
     },
     "execution_count": 3,
     "metadata": {},
     "output_type": "execute_result"
    },
    {
     "data": {
      "image/png": "[encoded data removed]",
      "text/plain": [
       "<Figure size 432x288 with 1 Axes>"
      ]
     },
     "metadata": {},
     "output_type": "display_data"
    }
   ],
   "source": [
    "print(series.shape)\n",
    "print(series.head())\n",
    "series.plot()"
   ]
  },
  {
   "cell_type": "code",
   "execution_count": 4,
   "metadata": {},
   "outputs": [
    {
     "data": {
      "text/plain": [
       "pandas.core.series.Series"
      ]
     },
     "metadata": {},
     "output_type": "display_data"
    },
    {
     "data": {
      "text/plain": [
       "0    63083943\n",
       "1    49601203\n",
       "2    72093831\n",
       "3    80226194\n",
       "4    79217360\n",
       "Name: VOL, dtype: int64"
      ]
     },
     "metadata": {},
     "output_type": "display_data"
    }
   ],
   "source": [
    "raw_data = series[\"VOL\"]\n",
    "display(type(raw_data))\n",
    "display(raw_data.head())"
   ]
  },
  {
   "cell_type": "code",
   "execution_count": 5,
   "metadata": {},
   "outputs": [],
   "source": [
    "# Transform Times Series to Stationary\n",
    "\n",
    "# Function that creates a differenced series\n",
    "def difference(dataset, interval = 1):\n",
    "    diff = list()\n",
    "    for i in range(interval, len(dataset)):\n",
    "        value = dataset[i] - dataset[i - interval]\n",
    "        diff.append(value)\n",
    "    return Series(diff)\n",
    "\n",
    "# Function that calculates the original value based on differenced series\n",
    "def invert_difference(history, yhat, interval = 1):\n",
    "    return yhat + history[len(history) - interval]\n"
   ]
  },
  {
   "cell_type": "code",
   "execution_count": 6,
   "metadata": {},
   "outputs": [
    {
     "data": {
      "text/plain": [
       "0   -13482740\n",
       "1    22492628\n",
       "2     8132363\n",
       "3    -1008834\n",
       "4    -4898179\n",
       "dtype: int64"
      ]
     },
     "metadata": {},
     "output_type": "display_data"
    },
    {
     "data": {
      "text/plain": [
       "(2517,)"
      ]
     },
     "metadata": {},
     "output_type": "display_data"
    }
   ],
   "source": [
    "# Transform Time Series to be stationary\n",
    "\n",
    "diff_data = difference(raw_data, 1)\n",
    "display(diff_data.head(), diff_data.shape)"
   ]
  },
  {
   "cell_type": "code",
   "execution_count": 7,
   "metadata": {},
   "outputs": [
    {
     "data": {
      "text/plain": [
       "0    49601203\n",
       "1    72093831\n",
       "2    80226194\n",
       "3    79217360\n",
       "4    74319181\n",
       "dtype: int64"
      ]
     },
     "metadata": {},
     "output_type": "display_data"
    }
   ],
   "source": [
    "# Invert Transform\n",
    "\n",
    "inverted_diff_data = list()\n",
    "for i in range(len(diff_data)):\n",
    "    inverted_diff_data.append(invert_difference(raw_data, diff_data[i], len(raw_data) - i))\n",
    "inverted_diff_data = Series(inverted_diff_data)\n",
    "display(inverted_diff_data.head())"
   ]
  },
  {
   "cell_type": "code",
   "execution_count": 8,
   "metadata": {},
   "outputs": [
    {
     "data": {
      "text/html": [
       "<div>\n",
       "<style scoped>\n",
       "    .dataframe tbody tr th:only-of-type {\n",
       "        vertical-align: middle;\n",
       "    }\n",
       "\n",
       "    .dataframe tbody tr th {\n",
       "        vertical-align: top;\n",
       "    }\n",
       "\n",
       "    .dataframe thead th {\n",
       "        text-align: right;\n",
       "    }\n",
       "</style>\n",
       "<table border=\"1\" class=\"dataframe\">\n",
       "  <thead>\n",
       "    <tr style=\"text-align: right;\">\n",
       "      <th></th>\n",
       "      <th>0</th>\n",
       "      <th>1</th>\n",
       "    </tr>\n",
       "  </thead>\n",
       "  <tbody>\n",
       "    <tr>\n",
       "      <th>0</th>\n",
       "      <td>0.0</td>\n",
       "      <td>-13482740</td>\n",
       "    </tr>\n",
       "    <tr>\n",
       "      <th>1</th>\n",
       "      <td>-13482740.0</td>\n",
       "      <td>22492628</td>\n",
       "    </tr>\n",
       "    <tr>\n",
       "      <th>2</th>\n",
       "      <td>22492628.0</td>\n",
       "      <td>8132363</td>\n",
       "    </tr>\n",
       "    <tr>\n",
       "      <th>3</th>\n",
       "      <td>8132363.0</td>\n",
       "      <td>-1008834</td>\n",
       "    </tr>\n",
       "    <tr>\n",
       "      <th>4</th>\n",
       "      <td>-1008834.0</td>\n",
       "      <td>-4898179</td>\n",
       "    </tr>\n",
       "  </tbody>\n",
       "</table>\n",
       "</div>"
      ],
      "text/plain": [
       "            0         1\n",
       "0         0.0 -13482740\n",
       "1 -13482740.0  22492628\n",
       "2  22492628.0   8132363\n",
       "3   8132363.0  -1008834\n",
       "4  -1008834.0  -4898179"
      ]
     },
     "metadata": {},
     "output_type": "display_data"
    }
   ],
   "source": [
    "# Frame the sequence as a supervised learning problem\n",
    "\n",
    "diff_data_shifted = [diff_data.shift(1)]\n",
    "#print(diff_data_shifted)\n",
    "diff_data_shifted.append(diff_data)\n",
    "#print(diff_data_shifted)\n",
    "diff_data_concat = concat(diff_data_shifted, axis=1)\n",
    "#print(diff_data_concat)\n",
    "diff_data_concat.fillna(0, inplace=True)   # fill NaN as 0.0\n",
    "display(diff_data_concat.head())"
   ]
  },
  {
   "cell_type": "code",
   "execution_count": 9,
   "metadata": {},
   "outputs": [
    {
     "data": {
      "text/plain": [
       "(1511,)"
      ]
     },
     "metadata": {},
     "output_type": "display_data"
    },
    {
     "data": {
      "text/plain": [
       "(504,)"
      ]
     },
     "metadata": {},
     "output_type": "display_data"
    },
    {
     "data": {
      "text/plain": [
       "(502,)"
      ]
     },
     "metadata": {},
     "output_type": "display_data"
    }
   ],
   "source": [
    "# Divide dataset into training / cross validation / test set\n",
    "#  with ratio 60% - 20% - 20%\n",
    "\n",
    "num_train = ceil(len(diff_data_concat) * 0.6)\n",
    "num_cv = ceil(len(diff_data_concat) * 0.2)\n",
    "train, cross_val, test = diff_data_concat[:num_train], diff_data_concat[num_train:num_train+num_cv], diff_data_concat[num_train+num_cv:]\n",
    "\n",
    "train_X, train_y = train[0], train[1]\n",
    "cross_val_X, cross_val_y = cross_val[0], cross_val[1]\n",
    "test_X, test_y = test[0], test[1]\n",
    "\n",
    "display(train_X.shape, cross_val_X.shape, test_X.shape)"
   ]
  },
  {
   "cell_type": "code",
   "execution_count": 10,
   "metadata": {},
   "outputs": [
    {
     "data": {
      "text/plain": [
       "<matplotlib.axes._subplots.AxesSubplot at 0x1a522fb9b0>"
      ]
     },
     "execution_count": 10,
     "metadata": {},
     "output_type": "execute_result"
    },
    {
     "data": {
      "image/png": "[encoded data removed]",
      "text/plain": [
       "<Figure size 432x288 with 1 Axes>"
      ]
     },
     "metadata": {},
     "output_type": "display_data"
    }
   ],
   "source": [
    "train_X.plot()"
   ]
  },
  {
   "cell_type": "code",
   "execution_count": 11,
   "metadata": {},
   "outputs": [],
   "source": [
    "# Function that returns a scaler [-1, 1] that fits on the training set\n",
    "def fit_scaler(train):\n",
    "    train = train.values.reshape(-1, 1)\n",
    "    scaler = MinMaxScaler(feature_range=(-1, 1))\n",
    "    scaler = scaler.fit(train)\n",
    "    return scaler\n",
    "\n",
    "# Function that scales a dataset using the given scaler\n",
    "#  Note: input and return are pandas Series\n",
    "def scale(dataset, scaler):\n",
    "    dataset = dataset.values.reshape(-1, 1)\n",
    "    dataset_scaled = scaler.transform(dataset)\n",
    "    dataset_scaled = dataset_scaled.squeeze()\n",
    "    dataset_scaled = Series(dataset_scaled)\n",
    "    return dataset_scaled\n",
    "\n",
    "# Function that inverts a dataset using the given scaler\n",
    "#  Note: input and return are pandas Series\n",
    "def invert_scale(dataset_scaled, scaler):\n",
    "    dataset_scaled = dataset_scaled.values.reshape(-1, 1)\n",
    "    dataset_inverted = scaler.inverse_transform(dataset_scaled)\n",
    "    dataset_inverted = dataset_inverted.squeeze()\n",
    "    dataset_inverted = Series(dataset_inverted)\n",
    "    return dataset_inverted"
   ]
  },
  {
   "cell_type": "code",
   "execution_count": 12,
   "metadata": {},
   "outputs": [],
   "source": [
    "# Transform Times Series to Scale ([-1, 1])\n",
    "\n",
    "scaler = fit_scaler(train_X)\n",
    "train_X_scaled = scale(train_X, scaler)\n",
    "train_y_scaled = scale(train_y, scaler)\n",
    "cross_val_X_scaled = scale(cross_val_X, scaler)\n",
    "cross_val_y_scaled = scale(cross_val_y, scaler)\n",
    "test_X_scaled = scale(test_X, scaler)\n",
    "test_y_scaled = scale(test_y, scaler)"
   ]
  },
  {
   "cell_type": "code",
   "execution_count": 13,
   "metadata": {},
   "outputs": [
    {
     "data": {
      "text/plain": [
       "numpy.ndarray"
      ]
     },
     "metadata": {},
     "output_type": "display_data"
    },
    {
     "data": {
      "text/plain": [
       "(1511, 1, 1)"
      ]
     },
     "metadata": {},
     "output_type": "display_data"
    },
    {
     "data": {
      "text/plain": [
       "(1511,)"
      ]
     },
     "metadata": {},
     "output_type": "display_data"
    }
   ],
   "source": [
    "# Transform X, y to numpy ndarray and Reshape X to comply with Keras LSTM input dimensions\n",
    "# (batch_size, timesteps, input_dim)\n",
    "# Each timestep in the original sequence is one seperate sample in the batch, with one timestep and input dimension of one\n",
    "\n",
    "X = train_X_scaled.values.reshape(train_X_scaled.shape[0], 1, 1)\n",
    "y = train_y_scaled.values\n",
    "\n",
    "display(type(X))\n",
    "display(X.shape, y.shape)"
   ]
  },
  {
   "cell_type": "code",
   "execution_count": 24,
   "metadata": {},
   "outputs": [],
   "source": [
    "# Build the LSTM Model\n",
    "\n",
    "def fit_lstm(X, y, batch_size=1, num_epoch=100, neurons=5, show_info=True):\n",
    "    model = Sequential()\n",
    "    model.add(LSTM(neurons, batch_input_shape=(batch_size, X.shape[1], X.shape[2]), stateful=True))\n",
    "    model.add(Dense(1))\n",
    "    model.compile(loss='mean_squared_error', optimizer='adam')\n",
    "    \n",
    "    history = list()\n",
    "    for i in range(num_epoch):\n",
    "        if show_info:\n",
    "            print(\"Total Epochs:\", i+1, \"/\", num_epoch)\n",
    "        history_info = model.fit(X, y, epochs=1, batch_size=batch_size, shuffle=False)\n",
    "        print(\"\\n\")\n",
    "        model.reset_states()\n",
    "        history.append(history_info)\n",
    "    \n",
    "    return model, history"
   ]
  },
  {
   "cell_type": "code",
   "execution_count": 25,
   "metadata": {},
   "outputs": [
    {
     "name": "stdout",
     "output_type": "stream",
     "text": [
      "Total Epochs: 1 / 100\n",
      "Epoch 1/1\n",
      "1511/1511 [==============================] - 4s 3ms/step - loss: 0.0122\n",
      "\n",
      "\n",
      "Total Epochs: 2 / 100\n",
      "Epoch 1/1\n",
      "1511/1511 [==============================] - 3s 2ms/step - loss: 0.0166\n",
      "\n",
      "\n",
      "Total Epochs: 3 / 100\n",
      "Epoch 1/1\n",
      "1511/1511 [==============================] - 3s 2ms/step - loss: 0.0136\n",
      "\n",
      "\n",
      "Total Epochs: 4 / 100\n",
      "Epoch 1/1\n",
      "1511/1511 [==============================] - 3s 2ms/step - loss: 0.0131\n",
      "\n",
      "\n",
      "Total Epochs: 5 / 100\n",
      "Epoch 1/1\n",
      "1511/1511 [==============================] - 3s 2ms/step - loss: 0.0120\n",
      "\n",
      "\n",
      "Total Epochs: 6 / 100\n",
      "Epoch 1/1\n",
      "1511/1511 [==============================] - 3s 2ms/step - loss: 0.0122\n",
      "\n",
      "\n",
      "Total Epochs: 7 / 100\n",
      "Epoch 1/1\n",
      "1511/1511 [==============================] - 3s 2ms/step - loss: 0.0126\n",
      "\n",
      "\n",
      "Total Epochs: 8 / 100\n",
      "Epoch 1/1\n",
      "1511/1511 [==============================] - 3s 2ms/step - loss: 0.0124\n",
      "\n",
      "\n",
      "Total Epochs: 9 / 100\n",
      "Epoch 1/1\n",
      "1511/1511 [==============================] - 3s 2ms/step - loss: 0.0121\n",
      "\n",
      "\n",
      "Total Epochs: 10 / 100\n",
      "Epoch 1/1\n",
      "1511/1511 [==============================] - 3s 2ms/step - loss: 0.0121\n",
      "\n",
      "\n",
      "Total Epochs: 11 / 100\n",
      "Epoch 1/1\n",
      "1511/1511 [==============================] - 3s 2ms/step - loss: 0.0118\n",
      "\n",
      "\n",
      "Total Epochs: 12 / 100\n",
      "Epoch 1/1\n",
      "1511/1511 [==============================] - 3s 2ms/step - loss: 0.0119\n",
      "\n",
      "\n",
      "Total Epochs: 13 / 100\n",
      "Epoch 1/1\n",
      "1511/1511 [==============================] - 3s 2ms/step - loss: 0.0114\n",
      "\n",
      "\n",
      "Total Epochs: 14 / 100\n",
      "Epoch 1/1\n",
      "1511/1511 [==============================] - 3s 2ms/step - loss: 0.0117\n",
      "\n",
      "\n",
      "Total Epochs: 15 / 100\n",
      "Epoch 1/1\n",
      "1511/1511 [==============================] - 3s 2ms/step - loss: 0.0131\n",
      "\n",
      "\n",
      "Total Epochs: 16 / 100\n",
      "Epoch 1/1\n",
      "1511/1511 [==============================] - 3s 2ms/step - loss: 0.0114\n",
      "\n",
      "\n",
      "Total Epochs: 17 / 100\n",
      "Epoch 1/1\n",
      "1511/1511 [==============================] - 3s 2ms/step - loss: 0.0110\n",
      "\n",
      "\n",
      "Total Epochs: 18 / 100\n",
      "Epoch 1/1\n",
      "1511/1511 [==============================] - 3s 2ms/step - loss: 0.0110\n",
      "\n",
      "\n",
      "Total Epochs: 19 / 100\n",
      "Epoch 1/1\n",
      "1511/1511 [==============================] - 3s 2ms/step - loss: 0.0113\n",
      "\n",
      "\n",
      "Total Epochs: 20 / 100\n",
      "Epoch 1/1\n",
      "1511/1511 [==============================] - 3s 2ms/step - loss: 0.0110\n",
      "\n",
      "\n",
      "Total Epochs: 21 / 100\n",
      "Epoch 1/1\n",
      "1511/1511 [==============================] - 3s 2ms/step - loss: 0.0120\n",
      "\n",
      "\n",
      "Total Epochs: 22 / 100\n",
      "Epoch 1/1\n",
      "1511/1511 [==============================] - 3s 2ms/step - loss: 0.0120\n",
      "\n",
      "\n",
      "Total Epochs: 23 / 100\n",
      "Epoch 1/1\n",
      "1511/1511 [==============================] - 3s 2ms/step - loss: 0.0119\n",
      "\n",
      "\n",
      "Total Epochs: 24 / 100\n",
      "Epoch 1/1\n",
      "1511/1511 [==============================] - 3s 2ms/step - loss: 0.0120\n",
      "\n",
      "\n",
      "Total Epochs: 25 / 100\n",
      "Epoch 1/1\n",
      "1511/1511 [==============================] - 3s 2ms/step - loss: 0.0117\n",
      "\n",
      "\n",
      "Total Epochs: 26 / 100\n",
      "Epoch 1/1\n",
      "1511/1511 [==============================] - 3s 2ms/step - loss: 0.0115\n",
      "\n",
      "\n",
      "Total Epochs: 27 / 100\n",
      "Epoch 1/1\n",
      "1511/1511 [==============================] - 3s 2ms/step - loss: 0.0110\n",
      "\n",
      "\n",
      "Total Epochs: 28 / 100\n",
      "Epoch 1/1\n",
      "1511/1511 [==============================] - 3s 2ms/step - loss: 0.0106\n",
      "\n",
      "\n",
      "Total Epochs: 29 / 100\n",
      "Epoch 1/1\n",
      "1511/1511 [==============================] - 3s 2ms/step - loss: 0.0106\n",
      "\n",
      "\n",
      "Total Epochs: 30 / 100\n",
      "Epoch 1/1\n",
      "1511/1511 [==============================] - 3s 2ms/step - loss: 0.0105\n",
      "\n",
      "\n",
      "Total Epochs: 31 / 100\n",
      "Epoch 1/1\n",
      "1511/1511 [==============================] - 3s 2ms/step - loss: 0.0105\n",
      "\n",
      "\n",
      "Total Epochs: 32 / 100\n",
      "Epoch 1/1\n",
      "1511/1511 [==============================] - 3s 2ms/step - loss: 0.0104\n",
      "\n",
      "\n",
      "Total Epochs: 33 / 100\n",
      "Epoch 1/1\n",
      "1511/1511 [==============================] - 3s 2ms/step - loss: 0.0103\n",
      "\n",
      "\n",
      "Total Epochs: 34 / 100\n",
      "Epoch 1/1\n",
      "1511/1511 [==============================] - 3s 2ms/step - loss: 0.0102\n",
      "\n",
      "\n",
      "Total Epochs: 35 / 100\n",
      "Epoch 1/1\n",
      "1511/1511 [==============================] - 3s 2ms/step - loss: 0.0103\n",
      "\n",
      "\n",
      "Total Epochs: 36 / 100\n",
      "Epoch 1/1\n",
      "1511/1511 [==============================] - 3s 2ms/step - loss: 0.0106\n",
      "\n",
      "\n",
      "Total Epochs: 37 / 100\n",
      "Epoch 1/1\n",
      "1511/1511 [==============================] - 3s 2ms/step - loss: 0.0103\n",
      "\n",
      "\n",
      "Total Epochs: 38 / 100\n",
      "Epoch 1/1\n",
      "1511/1511 [==============================] - 3s 2ms/step - loss: 0.0103\n",
      "\n",
      "\n",
      "Total Epochs: 39 / 100\n",
      "Epoch 1/1\n",
      "1511/1511 [==============================] - 3s 2ms/step - loss: 0.0103\n",
      "\n",
      "\n",
      "Total Epochs: 40 / 100\n",
      "Epoch 1/1\n",
      "1511/1511 [==============================] - 3s 2ms/step - loss: 0.0102\n",
      "\n",
      "\n",
      "Total Epochs: 41 / 100\n",
      "Epoch 1/1\n",
      "1511/1511 [==============================] - 3s 2ms/step - loss: 0.0101\n",
      "\n",
      "\n",
      "Total Epochs: 42 / 100\n",
      "Epoch 1/1\n",
      "1511/1511 [==============================] - 4s 2ms/step - loss: 0.0102\n",
      "\n",
      "\n",
      "Total Epochs: 43 / 100\n",
      "Epoch 1/1\n",
      "1511/1511 [==============================] - 4s 2ms/step - loss: 0.0101\n",
      "\n",
      "\n",
      "Total Epochs: 44 / 100\n",
      "Epoch 1/1\n",
      "1511/1511 [==============================] - 3s 2ms/step - loss: 0.0101\n",
      "\n",
      "\n",
      "Total Epochs: 45 / 100\n",
      "Epoch 1/1\n",
      "1511/1511 [==============================] - 3s 2ms/step - loss: 0.0101\n",
      "\n",
      "\n",
      "Total Epochs: 46 / 100\n",
      "Epoch 1/1\n",
      "1511/1511 [==============================] - 3s 2ms/step - loss: 0.0101\n",
      "\n",
      "\n",
      "Total Epochs: 47 / 100\n",
      "Epoch 1/1\n",
      "1511/1511 [==============================] - 3s 2ms/step - loss: 0.0101\n",
      "\n",
      "\n",
      "Total Epochs: 48 / 100\n",
      "Epoch 1/1\n",
      "1511/1511 [==============================] - 3s 2ms/step - loss: 0.0101\n",
      "\n",
      "\n",
      "Total Epochs: 49 / 100\n",
      "Epoch 1/1\n",
      "1511/1511 [==============================] - 3s 2ms/step - loss: 0.0101\n",
      "\n",
      "\n",
      "Total Epochs: 50 / 100\n",
      "Epoch 1/1\n",
      "1511/1511 [==============================] - 3s 2ms/step - loss: 0.0101\n",
      "\n",
      "\n",
      "Total Epochs: 51 / 100\n",
      "Epoch 1/1\n",
      "1511/1511 [==============================] - 3s 2ms/step - loss: 0.0101\n",
      "\n",
      "\n",
      "Total Epochs: 52 / 100\n",
      "Epoch 1/1\n",
      "1511/1511 [==============================] - 3s 2ms/step - loss: 0.0101\n",
      "\n",
      "\n",
      "Total Epochs: 53 / 100\n",
      "Epoch 1/1\n",
      "1511/1511 [==============================] - 3s 2ms/step - loss: 0.0101\n",
      "\n",
      "\n",
      "Total Epochs: 54 / 100\n",
      "Epoch 1/1\n",
      "1511/1511 [==============================] - 3s 2ms/step - loss: 0.0101\n",
      "\n",
      "\n",
      "Total Epochs: 55 / 100\n",
      "Epoch 1/1\n",
      "1511/1511 [==============================] - 3s 2ms/step - loss: 0.0101\n",
      "\n",
      "\n",
      "Total Epochs: 56 / 100\n",
      "Epoch 1/1\n",
      "1511/1511 [==============================] - 3s 2ms/step - loss: 0.0101\n",
      "\n",
      "\n",
      "Total Epochs: 57 / 100\n",
      "Epoch 1/1\n",
      "1511/1511 [==============================] - 3s 2ms/step - loss: 0.0101\n",
      "\n",
      "\n",
      "Total Epochs: 58 / 100\n",
      "Epoch 1/1\n",
      "1511/1511 [==============================] - 3s 2ms/step - loss: 0.0101\n",
      "\n",
      "\n",
      "Total Epochs: 59 / 100\n",
      "Epoch 1/1\n",
      "1511/1511 [==============================] - 3s 2ms/step - loss: 0.0100\n",
      "\n",
      "\n",
      "Total Epochs: 60 / 100\n",
      "Epoch 1/1\n",
      "1511/1511 [==============================] - 3s 2ms/step - loss: 0.0100\n",
      "\n",
      "\n",
      "Total Epochs: 61 / 100\n",
      "Epoch 1/1\n",
      "1511/1511 [==============================] - 3s 2ms/step - loss: 0.0100\n",
      "\n",
      "\n",
      "Total Epochs: 62 / 100\n",
      "Epoch 1/1\n",
      "1511/1511 [==============================] - 3s 2ms/step - loss: 0.0100\n",
      "\n",
      "\n",
      "Total Epochs: 63 / 100\n",
      "Epoch 1/1\n",
      "1511/1511 [==============================] - 3s 2ms/step - loss: 0.0100\n",
      "\n",
      "\n",
      "Total Epochs: 64 / 100\n",
      "Epoch 1/1\n",
      "1511/1511 [==============================] - 3s 2ms/step - loss: 0.0100\n",
      "\n",
      "\n",
      "Total Epochs: 65 / 100\n",
      "Epoch 1/1\n",
      "1511/1511 [==============================] - 3s 2ms/step - loss: 0.0100\n",
      "\n",
      "\n",
      "Total Epochs: 66 / 100\n",
      "Epoch 1/1\n",
      "1511/1511 [==============================] - 3s 2ms/step - loss: 0.0100\n",
      "\n",
      "\n",
      "Total Epochs: 67 / 100\n",
      "Epoch 1/1\n",
      "1511/1511 [==============================] - 3s 2ms/step - loss: 0.0100\n",
      "\n",
      "\n",
      "Total Epochs: 68 / 100\n",
      "Epoch 1/1\n",
      "1511/1511 [==============================] - 3s 2ms/step - loss: 0.0099\n",
      "\n",
      "\n",
      "Total Epochs: 69 / 100\n",
      "Epoch 1/1\n",
      "1511/1511 [==============================] - 3s 2ms/step - loss: 0.0099\n",
      "\n",
      "\n",
      "Total Epochs: 70 / 100\n",
      "Epoch 1/1\n",
      "1511/1511 [==============================] - 3s 2ms/step - loss: 0.0099\n",
      "\n",
      "\n",
      "Total Epochs: 71 / 100\n",
      "Epoch 1/1\n",
      "1511/1511 [==============================] - 3s 2ms/step - loss: 0.0098\n",
      "\n",
      "\n",
      "Total Epochs: 72 / 100\n",
      "Epoch 1/1\n",
      "1511/1511 [==============================] - 3s 2ms/step - loss: 0.0098\n",
      "\n",
      "\n",
      "Total Epochs: 73 / 100\n",
      "Epoch 1/1\n",
      "1511/1511 [==============================] - 3s 2ms/step - loss: 0.0098\n",
      "\n",
      "\n",
      "Total Epochs: 74 / 100\n",
      "Epoch 1/1\n",
      "1511/1511 [==============================] - 3s 2ms/step - loss: 0.0098\n",
      "\n",
      "\n",
      "Total Epochs: 75 / 100\n",
      "Epoch 1/1\n",
      "1511/1511 [==============================] - 3s 2ms/step - loss: 0.0098\n",
      "\n",
      "\n",
      "Total Epochs: 76 / 100\n",
      "Epoch 1/1\n",
      "1511/1511 [==============================] - 3s 2ms/step - loss: 0.0098\n",
      "\n",
      "\n",
      "Total Epochs: 77 / 100\n",
      "Epoch 1/1\n",
      "1511/1511 [==============================] - 3s 2ms/step - loss: 0.0098\n",
      "\n",
      "\n",
      "Total Epochs: 78 / 100\n",
      "Epoch 1/1\n",
      "1511/1511 [==============================] - 3s 2ms/step - loss: 0.0098\n",
      "\n",
      "\n",
      "Total Epochs: 79 / 100\n",
      "Epoch 1/1\n",
      "1511/1511 [==============================] - 3s 2ms/step - loss: 0.0098\n",
      "\n",
      "\n",
      "Total Epochs: 80 / 100\n",
      "Epoch 1/1\n",
      "1511/1511 [==============================] - 3s 2ms/step - loss: 0.0098\n",
      "\n",
      "\n",
      "Total Epochs: 81 / 100\n",
      "Epoch 1/1\n",
      "1511/1511 [==============================] - 3s 2ms/step - loss: 0.0098\n",
      "\n",
      "\n",
      "Total Epochs: 82 / 100\n",
      "Epoch 1/1\n",
      "1511/1511 [==============================] - 3s 2ms/step - loss: 0.0098\n",
      "\n",
      "\n",
      "Total Epochs: 83 / 100\n",
      "Epoch 1/1\n",
      "1511/1511 [==============================] - 3s 2ms/step - loss: 0.0098\n",
      "\n",
      "\n",
      "Total Epochs: 84 / 100\n",
      "Epoch 1/1\n",
      "1511/1511 [==============================] - 3s 2ms/step - loss: 0.0097\n",
      "\n",
      "\n",
      "Total Epochs: 85 / 100\n",
      "Epoch 1/1\n",
      "1511/1511 [==============================] - 3s 2ms/step - loss: 0.0098\n",
      "\n",
      "\n",
      "Total Epochs: 86 / 100\n",
      "Epoch 1/1\n",
      "1511/1511 [==============================] - 3s 2ms/step - loss: 0.0098\n",
      "\n",
      "\n",
      "Total Epochs: 87 / 100\n",
      "Epoch 1/1\n",
      "1511/1511 [==============================] - 3s 2ms/step - loss: 0.0098\n",
      "\n",
      "\n",
      "Total Epochs: 88 / 100\n",
      "Epoch 1/1\n",
      "1511/1511 [==============================] - 3s 2ms/step - loss: 0.0097\n",
      "\n",
      "\n",
      "Total Epochs: 89 / 100\n",
      "Epoch 1/1\n",
      "1511/1511 [==============================] - 3s 2ms/step - loss: 0.0101\n",
      "\n",
      "\n",
      "Total Epochs: 90 / 100\n",
      "Epoch 1/1\n",
      "1511/1511 [==============================] - 3s 2ms/step - loss: 0.0098\n",
      "\n",
      "\n",
      "Total Epochs: 91 / 100\n",
      "Epoch 1/1\n",
      "1511/1511 [==============================] - 3s 2ms/step - loss: 0.0099\n",
      "\n",
      "\n",
      "Total Epochs: 92 / 100\n",
      "Epoch 1/1\n",
      "1511/1511 [==============================] - 3s 2ms/step - loss: 0.0098\n",
      "\n",
      "\n",
      "Total Epochs: 93 / 100\n",
      "Epoch 1/1\n",
      "1511/1511 [==============================] - 3s 2ms/step - loss: 0.0098\n",
      "\n",
      "\n",
      "Total Epochs: 94 / 100\n",
      "Epoch 1/1\n",
      "1511/1511 [==============================] - 3s 2ms/step - loss: 0.0098\n",
      "\n",
      "\n",
      "Total Epochs: 95 / 100\n",
      "Epoch 1/1\n",
      "1511/1511 [==============================] - 3s 2ms/step - loss: 0.0098\n",
      "\n",
      "\n",
      "Total Epochs: 96 / 100\n",
      "Epoch 1/1\n",
      "1511/1511 [==============================] - 3s 2ms/step - loss: 0.0098\n",
      "\n",
      "\n",
      "Total Epochs: 97 / 100\n",
      "Epoch 1/1\n",
      "1511/1511 [==============================] - 3s 2ms/step - loss: 0.0098\n",
      "\n",
      "\n",
      "Total Epochs: 98 / 100\n",
      "Epoch 1/1\n",
      "1511/1511 [==============================] - 3s 2ms/step - loss: 0.0097\n",
      "\n",
      "\n",
      "Total Epochs: 99 / 100\n",
      "Epoch 1/1\n",
      "1511/1511 [==============================] - 3s 2ms/step - loss: 0.0098\n",
      "\n",
      "\n",
      "Total Epochs: 100 / 100\n",
      "Epoch 1/1\n",
      "1511/1511 [==============================] - 3s 2ms/step - loss: 0.0097\n",
      "\n",
      "\n"
     ]
    }
   ],
   "source": [
    "lstm_model, history = fit_lstm(X, y, num_epoch=100, neurons=100)"
   ]
  },
  {
   "cell_type": "code",
   "execution_count": 26,
   "metadata": {},
   "outputs": [
    {
     "data": {
      "text/plain": [
       "[<matplotlib.lines.Line2D at 0x1a57b3c5f8>]"
      ]
     },
     "execution_count": 26,
     "metadata": {},
     "output_type": "execute_result"
    },
    {
     "data": {
      "image/png": "[encoded data removed]",
      "text/plain": [
       "<Figure size 432x288 with 1 Axes>"
      ]
     },
     "metadata": {},
     "output_type": "display_data"
    }
   ],
   "source": [
    "# Plot history loss values during training\n",
    "\n",
    "loss = [loss_val for i in history for j in i.history.values() for loss_val in j]\n",
    "pyplot.plot(loss)"
   ]
  },
  {
   "cell_type": "code",
   "execution_count": 27,
   "metadata": {},
   "outputs": [],
   "source": [
    "# Make a one-step forecast\n",
    "def forcast_lstm(model, X, batch_size=1):\n",
    "    X = X.reshape(1, 1, 1)\n",
    "    yhat = model.predict(X, batch_size=batch_size)\n",
    "    return yhat[0, 0]"
   ]
  },
  {
   "cell_type": "code",
   "execution_count": 28,
   "metadata": {},
   "outputs": [],
   "source": [
    "# Forcast the entire training dataset to build up state for forecasting\n",
    "lstm_model.reset_states()\n",
    "prediction_train = lstm_model.predict(X, batch_size=1)\n",
    "prediction_train = Series(prediction_train.squeeze())"
   ]
  },
  {
   "cell_type": "code",
   "execution_count": 29,
   "metadata": {},
   "outputs": [],
   "source": [
    "# Function that retain the original data format\n",
    "def reformat(raw_prediction, raw_data, scaler):\n",
    "    prediction_invert_scale = invert_scale(raw_prediction, scaler)\n",
    "    #print(prediction_invert_scale)\n",
    "    pis_invert_diff = list()\n",
    "    pis_invert_diff.append(raw_data[0])\n",
    "    #print(pis_invert_diff)\n",
    "    for i in range(len(prediction_invert_scale)):\n",
    "        pis_invert_diff.append(invert_difference(raw_data, prediction_invert_scale[i], len(raw_data) - i))\n",
    "    pis_invert_diff_series = Series(pis_invert_diff)\n",
    "    return pis_invert_diff_series"
   ]
  },
  {
   "cell_type": "code",
   "execution_count": 30,
   "metadata": {},
   "outputs": [
    {
     "data": {
      "text/plain": [
       "<matplotlib.axes._subplots.AxesSubplot at 0x1a581b5710>"
      ]
     },
     "execution_count": 30,
     "metadata": {},
     "output_type": "execute_result"
    },
    {
     "data": {
      "image/png": "[encoded data removed]",
      "text/plain": [
       "<Figure size 432x288 with 1 Axes>"
      ]
     },
     "metadata": {},
     "output_type": "display_data"
    }
   ],
   "source": [
    "prediction_train_reformat = reformat(prediction_train, raw_data, scaler)\n",
    "prediction_train_reformat.plot()"
   ]
  },
  {
   "cell_type": "code",
   "execution_count": 31,
   "metadata": {},
   "outputs": [
    {
     "data": {
      "text/plain": [
       "<matplotlib.axes._subplots.AxesSubplot at 0x1a57e9b080>"
      ]
     },
     "execution_count": 31,
     "metadata": {},
     "output_type": "execute_result"
    },
    {
     "data": {
      "image/png": "[encoded data removed]",
      "text/plain": [
       "<Figure size 432x288 with 1 Axes>"
      ]
     },
     "metadata": {},
     "output_type": "display_data"
    }
   ],
   "source": [
    "raw_data[:1511].plot()"
   ]
  },
  {
   "cell_type": "code",
   "execution_count": 28,
   "metadata": {},
   "outputs": [],
   "source": [
    "# Forecast the cross validation dataset\n",
    "X_cv = cross_val_X_scaled.values.reshape(cross_val_X_scaled.shape[0], 1, 1)\n",
    "#y = train_y_scaled.values\n",
    "prediction_cv = lstm_model.predict(X_cv, batch_size=1)\n",
    "prediction_cv = Series(prediction_cv.squeeze())"
   ]
  },
  {
   "cell_type": "code",
   "execution_count": 29,
   "metadata": {},
   "outputs": [
    {
     "data": {
      "text/plain": [
       "<matplotlib.axes._subplots.AxesSubplot at 0x1a5a18a438>"
      ]
     },
     "execution_count": 29,
     "metadata": {},
     "output_type": "execute_result"
    },
    {
     "data": {
      "image/png": "[encoded data removed]",
      "text/plain": [
       "<Figure size 432x288 with 1 Axes>"
      ]
     },
     "metadata": {},
     "output_type": "display_data"
    }
   ],
   "source": [
    "prediction_cv_reformat = reformat(prediction_cv, raw_data, scaler)\n",
    "prediction_cv_reformat.plot()"
   ]
  },
  {
   "cell_type": "code",
   "execution_count": 30,
   "metadata": {},
   "outputs": [
    {
     "data": {
      "text/plain": [
       "<matplotlib.axes._subplots.AxesSubplot at 0x1a5a21b198>"
      ]
     },
     "execution_count": 30,
     "metadata": {},
     "output_type": "execute_result"
    },
    {
     "data": {
      "image/png": "[encoded data removed]",
      "text/plain": [
       "<Figure size 432x288 with 1 Axes>"
      ]
     },
     "metadata": {},
     "output_type": "display_data"
    }
   ],
   "source": [
    "raw_data[1511:2015].plot()"
   ]
  },
  {
   "cell_type": "code",
   "execution_count": null,
   "metadata": {},
   "outputs": [],
   "source": []
  }
 ],
 "metadata": {
  "kernelspec": {
   "display_name": "Python 3",
   "language": "python",
   "name": "python3"
  },
  "language_info": {
   "codemirror_mode": {
    "name": "ipython",
    "version": 3
   },
   "file_extension": ".py",
   "mimetype": "text/x-python",
   "name": "python",
   "nbconvert_exporter": "python",
   "pygments_lexer": "ipython3",
   "version": "3.6.5"
  }
 },
 "nbformat": 4,
 "nbformat_minor": 2
}
